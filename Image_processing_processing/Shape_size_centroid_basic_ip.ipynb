{
 "cells": [
  {
   "cell_type": "markdown",
   "metadata": {},
   "source": [
    "The problem statement is as follows. This is a problem statement inspired from E-yantra (IITM hosted robotics competition)\n",
    "\n",
    "Given below is an image containing various shapes of differents colours. Make a program such that the output contains a list having all shapes with their respective solour and centroid. It is a time consuming assignment but a very effective problem statement for beginners in Image processing. You can take the help of google (please do not blindly copy the codes, try to understand the program while solving). The deadline dates will be mentiond soon. \n",
    "\n",
    "I will also be sharing a sample image with required output"
   ]
  },
  {
   "cell_type": "code",
   "execution_count": null,
   "metadata": {},
   "outputs": [],
   "source": [
    "import cv2 as cv\n",
    "import numpy as np\n",
    "# change it with your absolute path for the image\n",
    "image = cv.imread(\"sample.jpeg\")\n",
    "gray = cv.cvtColor(image, cv.COLOR_BGR2GRAY)\n",
    "\n",
    "blur = cv.GaussianBlur(gray, (5, 5),\n",
    "\t\t\t\t\tcv.BORDER_DEFAULT)\n",
    "ret, thresh = cv.threshold(blur, 200, 255,\n",
    "\t\t\t\t\t\tcv.THRESH_BINARY_INV)\n",
    "cv.imwrite(\"thresh.png\",thresh)\n",
    "contours, hierarchies = cv.findContours(\n",
    "\tthresh, cv.RETR_LIST, cv.CHAIN_APPROX_SIMPLE)\n",
    "blank = np.zeros(thresh.shape[:2],\n",
    "\t\t\t\tdtype='uint8')\n",
    "\n",
    "cv.drawContours(blank, contours, -1,\n",
    "\t\t\t\t(255, 0, 0), 1)\n",
    "\n",
    "cv.imwrite(\"Contours.png\", blank)\n",
    "for i in contours:\n",
    "\tM = cv.moments(i)\n",
    "\tif M['m00'] != 0:\n",
    "\t\tcx = int(M['m10']/M['m00'])\n",
    "\t\tcy = int(M['m01']/M['m00'])\n",
    "\t\tcv.drawContours(image, [i], -1, (0, 255, 0), 2)\n",
    "\t\tcv.circle(image, (cx, cy), 7, (0, 0, 255), -1)\n",
    "\t\tcv.putText(image, \"center\", (cx - 20, cy - 20),\n",
    "\t\t\t\tcv.FONT_HERSHEY_SIMPLEX, 0.5, (0, 0, 0), 2)\n",
    "\tprint(f\"x: {cx} y: {cy}\")\n",
    "\n",
    "cv.imshow(\"image.png\", image)\n",
    "cv.waitKey(0)\n",
    "cv.destroyAllWindows()"
   ]
  },
  {
   "cell_type": "code",
   "execution_count": 1,
   "metadata": {},
   "outputs": [
    {
     "name": "stdout",
     "output_type": "stream",
     "text": [
      "x: 230 y: 615\n",
      "x: 683 y: 573\n",
      "x: 811 y: 250\n",
      "x: 386 y: 285\n",
      "x: 130 y: 136\n",
      "x: 1 y: 1\n"
     ]
    }
   ],
   "source": [
    "import cv2 as cv\n",
    "import numpy as np\n",
    "# change it with your absolute path for the image\n",
    "image = cv.imread(\"sample.jpeg\")\n",
    "gray = cv.cvtColor(image, cv.COLOR_BGR2GRAY)\n",
    "\n",
    "blur = cv.GaussianBlur(gray, (5, 5),\n",
    "\t\t\t\t\tcv.BORDER_DEFAULT)\n",
    "ret, thresh = cv.threshold(blur, 200, 255,\n",
    "\t\t\t\t\t\tcv.THRESH_BINARY_INV)\n",
    "cv.imwrite(\"thresh.png\",thresh)\n",
    "contours, hierarchies = cv.findContours(\n",
    "\tthresh, cv.RETR_LIST, cv.CHAIN_APPROX_SIMPLE)\n",
    "blank = np.zeros(thresh.shape[:2],\n",
    "\t\t\t\tdtype='uint8')\n",
    "\n",
    "cv.drawContours(blank, contours, -1,\n",
    "\t\t\t\t(255, 0, 0), 1)\n",
    "\n",
    "cv.imwrite(\"Contours.png\", blank)\n",
    "for i in contours:\n",
    "\tM = cv.moments(i)\n",
    "\tif M['m00'] != 0:\n",
    "\t\tcx = int(M['m10']/M['m00'])\n",
    "\t\tcy = int(M['m01']/M['m00'])\n",
    "\t\tcv.drawContours(image, [i], -1, (0, 255, 0), 2)\n",
    "\t\tcv.circle(image, (cx, cy), 7, (0, 0, 255), -1)\n",
    "\t\tcv.putText(image, \"center\", (cx - 20, cy - 20),\n",
    "\t\t\t\tcv.FONT_HERSHEY_SIMPLEX, 0.5, (0, 0, 0), 2)\n",
    "\tprint(f\"x: {cx} y: {cy}\")w\n",
    "\n",
    "cv.imshow(\"image.png\", image)\n",
    "cv.waitKey(0)\n",
    "cv.destroyAllWindows()\n"
   ]
  }
 ],
 "metadata": {
  "interpreter": {
   "hash": "8163f4e91ca8a088b0852fa7241c17d879a3637a8910134bec7c97b1596d3bac"
  },
  "kernelspec": {
   "display_name": "Python 3.9.7 ('materialDetection')",
   "language": "python",
   "name": "python3"
  },
  "language_info": {
   "name": "python",
   "version": "3.9.7"
  },
  "orig_nbformat": 4
 },
 "nbformat": 4,
 "nbformat_minor": 2
}
