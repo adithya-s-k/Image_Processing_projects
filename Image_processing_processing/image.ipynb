{
 "cells": [
  {
   "cell_type": "code",
   "execution_count": 22,
   "metadata": {},
   "outputs": [],
   "source": [
    "import cv2\n",
    "cap = cv2.imread(\"daki.png\")\n",
    "\n",
    "cv2.imshow(\"image\", cap)\n",
    "cv2.waitKey(0)\n",
    "cv2.destroyAllWindows()\n"
   ]
  },
  {
   "cell_type": "code",
   "execution_count": 23,
   "metadata": {},
   "outputs": [],
   "source": [
    "import cv2\n",
    "cap = cv2.imread(\"daki.png\")\n",
    "\n",
    "res= cv2.GaussianBlur(cap,(1,21),cv2.BORDER_REFLECT)\n",
    "\n",
    "cv2.imshow(\"image\", res)\n",
    "cv2.waitKey()\n",
    "cv2.destroyAllWindows()"
   ]
  },
  {
   "cell_type": "code",
   "execution_count": 24,
   "metadata": {},
   "outputs": [],
   "source": [
    "import cv2\n",
    "cap = cv2.imread(\"daki.png\")\n",
    "\n",
    "res= cv2.cvtColor(cap,cv2.COLOR_BGR2GRAY)\n",
    "\n",
    "cv2.imshow(\"image\", res)\n",
    "cv2.waitKey()\n",
    "cv2.destroyAllWindows()"
   ]
  },
  {
   "cell_type": "code",
   "execution_count": 31,
   "metadata": {},
   "outputs": [],
   "source": [
    "# Python program to illustrate\n",
    "# simple thresholding type on an image\n",
    "\t\n",
    "# organizing imports\n",
    "import cv2\n",
    "import numpy as np\n",
    "\n",
    "# path to input image is specified and\n",
    "# image is loaded with imread command\n",
    "image1 = cv2.imread('daki.png')\n",
    "\n",
    "# cv2.cvtColor is applied over the\n",
    "# image input with applied parameters\n",
    "# to convert the image in grayscale\n",
    "img = cv2.cvtColor(image1, cv2.COLOR_BGR2GRAY)\n",
    "\n",
    "# applying different thresholding\n",
    "# techniques on the input image\n",
    "# all pixels value above 120 will\n",
    "# be set to 255\n",
    "ret, thresh1 = cv2.threshold(img, 120, 255, cv2.THRESH_BINARY)\n",
    "ret, thresh2 = cv2.threshold(img, 120, 255, cv2.THRESH_BINARY_INV)\n",
    "ret, thresh3 = cv2.threshold(img, 120, 255, cv2.THRESH_TRUNC)\n",
    "ret, thresh4 = cv2.threshold(img, 120, 255, cv2.THRESH_TOZERO)\n",
    "ret, thresh5 = cv2.threshold(img, 120, 255, cv2.THRESH_TOZERO_INV)\n",
    "\n",
    "# the window showing output images\n",
    "# with the corresponding thresholding\n",
    "# techniques applied to the input images\n",
    "cv2.imshow('Binary Threshold', thresh1)\n",
    "cv2.imshow('Binary Threshold Inverted', thresh2)\n",
    "cv2.imshow('Truncated Threshold', thresh3)\n",
    "cv2.imshow('Set to 0', thresh4)\n",
    "cv2.imshow('Set to 0 Inverted', thresh5)\n",
    "\n",
    "# De-allocate any associated memory usage\n",
    "if cv2.waitKey(0) & 0xff == 27:\n",
    "\tcv2.destroyAllWindows()"
   ]
  },
  {
   "cell_type": "code",
   "execution_count": 35,
   "metadata": {},
   "outputs": [],
   "source": [
    "import cv2\n",
    "cap = cv2.VideoCapture(0)\n",
    "\n",
    "cap.set(720, 300)\n",
    "cap.set(1280, 400)\n",
    "\n",
    "while True:\n",
    "    ret,img = cap.read()\n",
    "    \t\n",
    "    grayImage = cv2.cvtColor(img, cv2.COLOR_BGR2GRAY)\n",
    "    (thresh, blackAndWhiteImage) = cv2.threshold(grayImage, 127, 255, cv2.THRESH_BINARY)\n",
    "\n",
    "\n",
    "    cv2.imshow('Black white image', grayImage)\n",
    "    # cv2.imshow(\"Webcam\",img)\n",
    "\n",
    "    key = cv2.waitKey(1)\n",
    "    if key == 27:\n",
    "        break\n",
    "\n",
    "cap.release()\n",
    "cv2.destroyAllWindows()\n"
   ]
  },
  {
   "cell_type": "code",
   "execution_count": 34,
   "metadata": {},
   "outputs": [
    {
     "ename": "KeyboardInterrupt",
     "evalue": "",
     "output_type": "error",
     "traceback": [
      "\u001b[1;31m---------------------------------------------------------------------------\u001b[0m",
      "\u001b[1;31mKeyboardInterrupt\u001b[0m                         Traceback (most recent call last)",
      "\u001b[1;32mc:\\Python_code\\class_programs\\image_processing\\image.ipynb Cell 6'\u001b[0m in \u001b[0;36m<cell line: 8>\u001b[1;34m()\u001b[0m\n\u001b[0;32m      <a href='vscode-notebook-cell:/c%3A/Python_code/class_programs/image_processing/image.ipynb#ch0000006?line=4'>5</a>\u001b[0m cap \u001b[39m=\u001b[39m cv2\u001b[39m.\u001b[39mVideoCapture(\u001b[39m0\u001b[39m)\n\u001b[0;32m      <a href='vscode-notebook-cell:/c%3A/Python_code/class_programs/image_processing/image.ipynb#ch0000006?line=7'>8</a>\u001b[0m \u001b[39mwhile\u001b[39;00m \u001b[39mTrue\u001b[39;00m:\n\u001b[1;32m----> <a href='vscode-notebook-cell:/c%3A/Python_code/class_programs/image_processing/image.ipynb#ch0000006?line=8'>9</a>\u001b[0m     ret,img \u001b[39m=\u001b[39m cap\u001b[39m.\u001b[39;49mread()\n\u001b[0;32m     <a href='vscode-notebook-cell:/c%3A/Python_code/class_programs/image_processing/image.ipynb#ch0000006?line=10'>11</a>\u001b[0m     img1 \u001b[39m=\u001b[39m cv2\u001b[39m.\u001b[39mcvtColor(img,cv2\u001b[39m.\u001b[39mCOLOR_BGR2GRAY)\n\u001b[0;32m     <a href='vscode-notebook-cell:/c%3A/Python_code/class_programs/image_processing/image.ipynb#ch0000006?line=12'>13</a>\u001b[0m     thresh1 \u001b[39m=\u001b[39mcv2\u001b[39m.\u001b[39mthreshold(img,\u001b[39m120\u001b[39m,\u001b[39m255\u001b[39m,cv2\u001b[39m.\u001b[39mTHRESH_BINARY)\n",
      "\u001b[1;31mKeyboardInterrupt\u001b[0m: "
     ]
    }
   ],
   "source": [
    "#Thresholding\n",
    "\n",
    "import cv2\n",
    "import numpy as np\n",
    "cap = cv2.VideoCapture(0)\n",
    "\n",
    "\n",
    "while True:\n",
    "    ret,img = cap.read()\n",
    "    \n",
    "    img1 = cv2.cvtColor(img,cv2.COLOR_BGR2GRAY)\n",
    "\n",
    "    thresh1 =cv2.threshold(img,120,255,cv2.THRESH_BINARY)\n",
    "    \n",
    "    cv2.imshow(\"Webcam\",thresh)\n",
    "\n",
    "    key = cv2.waitKey(1)\n",
    "    if key == 27:\n",
    "        break\n",
    "\n",
    "cap.release()\n",
    "cv2.destroyAllWindows()"
   ]
  },
  {
   "cell_type": "code",
   "execution_count": 21,
   "metadata": {},
   "outputs": [],
   "source": [
    "import cv2\n",
    "import numpy as np\n",
    "cap = cv2.VideoCapture(0)\n",
    "\n",
    "\n",
    "while True:\n",
    "    ret,img = cap.read()\n",
    "    \n",
    "    \n",
    "    frame = cv2.GaussianBlur(img,(7,7), 1.41)\n",
    "    frame = cv2.cvtColor(frame,cv2.COLOR_BGR2GRAY)\n",
    "\n",
    "    edge = cv2.Canny(frame,25,75)\n",
    "\n",
    "    # cv2.imshow('Black white image', grayImage)\n",
    "    cv2.imshow(\"Webcam\",edge)\n",
    "\n",
    "    key = cv2.waitKey(1)\n",
    "    if key == 27:\n",
    "        break\n",
    "\n",
    "cap.release()\n",
    "cv2.destroyAllWindows()"
   ]
  },
  {
   "cell_type": "code",
   "execution_count": 33,
   "metadata": {},
   "outputs": [
    {
     "ename": "error",
     "evalue": "OpenCV(4.5.5) D:\\a\\opencv-python\\opencv-python\\opencv\\modules\\highgui\\src\\window_w32.cpp:2581: error: (-27:Null pointer) NULL window: 'Trackbars' in function 'cvGetTrackbarPos'\n",
     "output_type": "error",
     "traceback": [
      "\u001b[1;31m---------------------------------------------------------------------------\u001b[0m",
      "\u001b[1;31merror\u001b[0m                                     Traceback (most recent call last)",
      "\u001b[1;32mc:\\Python_code\\class_programs\\image_processing\\image.ipynb Cell 8'\u001b[0m in \u001b[0;36m<cell line: 9>\u001b[1;34m()\u001b[0m\n\u001b[0;32m     <a href='vscode-notebook-cell:/c%3A/Python_code/class_programs/image_processing/image.ipynb#ch0000008?line=10'>11</a>\u001b[0m ret, frame \u001b[39m=\u001b[39m cap\u001b[39m.\u001b[39mread()\n\u001b[0;32m     <a href='vscode-notebook-cell:/c%3A/Python_code/class_programs/image_processing/image.ipynb#ch0000008?line=11'>12</a>\u001b[0m image \u001b[39m=\u001b[39m cv2\u001b[39m.\u001b[39mflip( frame, \u001b[39m1\u001b[39m ) \n\u001b[1;32m---> <a href='vscode-notebook-cell:/c%3A/Python_code/class_programs/image_processing/image.ipynb#ch0000008?line=12'>13</a>\u001b[0m l_h \u001b[39m=\u001b[39m cv2\u001b[39m.\u001b[39;49mgetTrackbarPos(\u001b[39m\"\u001b[39;49m\u001b[39mBlur\u001b[39;49m\u001b[39m\"\u001b[39;49m, \u001b[39m\"\u001b[39;49m\u001b[39mTrackbars\u001b[39;49m\u001b[39m\"\u001b[39;49m)\n\u001b[0;32m     <a href='vscode-notebook-cell:/c%3A/Python_code/class_programs/image_processing/image.ipynb#ch0000008?line=13'>14</a>\u001b[0m l_h\u001b[39m=\u001b[39m(\u001b[39m2\u001b[39m\u001b[39m*\u001b[39ml_h)\u001b[39m+\u001b[39m\u001b[39m1\u001b[39m \u001b[39m#2x+1\u001b[39;00m\n\u001b[0;32m     <a href='vscode-notebook-cell:/c%3A/Python_code/class_programs/image_processing/image.ipynb#ch0000008?line=16'>17</a>\u001b[0m gray \u001b[39m=\u001b[39m cv2\u001b[39m.\u001b[39mcvtColor(image, cv2\u001b[39m.\u001b[39mCOLOR_BGR2GRAY) \n",
      "\u001b[1;31merror\u001b[0m: OpenCV(4.5.5) D:\\a\\opencv-python\\opencv-python\\opencv\\modules\\highgui\\src\\window_w32.cpp:2581: error: (-27:Null pointer) NULL window: 'Trackbars' in function 'cvGetTrackbarPos'\n"
     ]
    }
   ],
   "source": [
    "import cv2\n",
    "def nothing(x):\n",
    "    pass\n",
    "cap = cv2.VideoCapture(0)\n",
    "import numpy as np\n",
    "cv2.namedWindow(\"Trackbars\")\n",
    "cv2.createTrackbar(\"Blur\", \"Trackbars\", 0, 20, nothing)\n",
    "\n",
    "while True:\n",
    "  \n",
    "    ret, frame = cap.read()\n",
    "    image = cv2.flip( frame, 1 ) \n",
    "    l_h = cv2.getTrackbarPos(\"Blur\", \"Trackbars\")\n",
    "    l_h=(2*l_h)+1 #2x+1\n",
    "   \n",
    "   \n",
    "    gray = cv2.cvtColor(image, cv2.COLOR_BGR2GRAY) \n",
    "    blur=cv2.GaussianBlur(image,(l_h,l_h),cv2.BORDER_DEFAULT)\n",
    "    img_bgr = cv2.cvtColor(gray, cv2.COLOR_GRAY2BGR)\n",
    "    stacked = np.hstack((image,blur,img_bgr))\n",
    "    \n",
    " \n",
    "    cv2.imshow('Trackbars',cv2.resize(stacked,None,fx=0.8,fy=0.8))\n",
    " \n",
    "    key = cv2.waitKey(1)\n",
    "    if key == 27:\n",
    "        break\n",
    "    \n",
    "   \n",
    "cap.release()\n",
    "cv2.destroyAllWindows()"
   ]
  }
 ],
 "metadata": {
  "interpreter": {
   "hash": "22fb9d85073079feb6285579bdbcde0a561f76ebce1cab20d372a0fe82a3bc94"
  },
  "kernelspec": {
   "display_name": "Python 3.10.0 64-bit",
   "language": "python",
   "name": "python3"
  },
  "language_info": {
   "codemirror_mode": {
    "name": "ipython",
    "version": 3
   },
   "file_extension": ".py",
   "mimetype": "text/x-python",
   "name": "python",
   "nbconvert_exporter": "python",
   "pygments_lexer": "ipython3",
   "version": "3.10.0"
  },
  "orig_nbformat": 4
 },
 "nbformat": 4,
 "nbformat_minor": 2
}
